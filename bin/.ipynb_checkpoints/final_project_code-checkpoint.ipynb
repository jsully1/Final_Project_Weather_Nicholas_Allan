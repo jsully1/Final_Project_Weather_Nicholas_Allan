{
 "cells": [
  {
   "cell_type": "markdown",
   "metadata": {},
   "source": [
    "# Final project raw code "
   ]
  },
  {
   "cell_type": "code",
   "execution_count": 3,
   "metadata": {
    "collapsed": true
   },
   "outputs": [],
   "source": [
    "#import the python library \n",
    "import pandas as pd \n",
    "import numpy as np\n",
    "import matplotlib.pyplot as plt\n",
    "import matplotlib.mlab as mlab\n",
    "%matplotlib inline\n",
    "\n",
    "#stats lybraries\n",
    "import statsmodels.api as sm \n",
    "import scipy\n",
    "\n",
    "#here i set limits on what i allow the phyton to show in tables\n",
    "from pandas import set_option\n",
    "set_option('display.max_rows',8) \n",
    "#limits rows show in tablle by 10(above). change this number if you want more or less rows visible"
   ]
  },
  {
   "cell_type": "markdown",
   "metadata": {},
   "source": [
    "## Data import and setting of the colunms names "
   ]
  },
  {
   "cell_type": "code",
   "execution_count": 4,
   "metadata": {
    "collapsed": false
   },
   "outputs": [
    {
     "data": {
      "text/html": [
       "<div>\n",
       "<table border=\"1\" class=\"dataframe\">\n",
       "  <thead>\n",
       "    <tr style=\"text-align: right;\">\n",
       "      <th></th>\n",
       "      <th>num_test</th>\n",
       "      <th>Rainfall(mm)</th>\n",
       "      <th>temperature(C)</th>\n",
       "      <th>relative_humidity(%)</th>\n",
       "      <th>wind_direction</th>\n",
       "      <th>wind_speed(m/s)</th>\n",
       "      <th>gust_speed(m/s)</th>\n",
       "    </tr>\n",
       "    <tr>\n",
       "      <th>Date_Time</th>\n",
       "      <th></th>\n",
       "      <th></th>\n",
       "      <th></th>\n",
       "      <th></th>\n",
       "      <th></th>\n",
       "      <th></th>\n",
       "      <th></th>\n",
       "    </tr>\n",
       "  </thead>\n",
       "  <tbody>\n",
       "    <tr>\n",
       "      <th>2015-09-23 09:04:59</th>\n",
       "      <td>1</td>\n",
       "      <td>NaN</td>\n",
       "      <td>12.243</td>\n",
       "      <td>84.6</td>\n",
       "      <td>64.6</td>\n",
       "      <td>0.76</td>\n",
       "      <td>6.30</td>\n",
       "    </tr>\n",
       "    <tr>\n",
       "      <th>2015-09-23 09:19:59</th>\n",
       "      <td>2</td>\n",
       "      <td>0.0</td>\n",
       "      <td>12.316</td>\n",
       "      <td>84.4</td>\n",
       "      <td>92.7</td>\n",
       "      <td>0.00</td>\n",
       "      <td>0.76</td>\n",
       "    </tr>\n",
       "    <tr>\n",
       "      <th>2015-09-23 09:34:59</th>\n",
       "      <td>3</td>\n",
       "      <td>0.0</td>\n",
       "      <td>12.340</td>\n",
       "      <td>84.7</td>\n",
       "      <td>1.4</td>\n",
       "      <td>0.00</td>\n",
       "      <td>1.51</td>\n",
       "    </tr>\n",
       "    <tr>\n",
       "      <th>2015-09-23 09:49:59</th>\n",
       "      <td>4</td>\n",
       "      <td>0.0</td>\n",
       "      <td>12.074</td>\n",
       "      <td>84.6</td>\n",
       "      <td>7.0</td>\n",
       "      <td>0.00</td>\n",
       "      <td>1.26</td>\n",
       "    </tr>\n",
       "    <tr>\n",
       "      <th>...</th>\n",
       "      <td>...</td>\n",
       "      <td>...</td>\n",
       "      <td>...</td>\n",
       "      <td>...</td>\n",
       "      <td>...</td>\n",
       "      <td>...</td>\n",
       "      <td>...</td>\n",
       "    </tr>\n",
       "    <tr>\n",
       "      <th>2015-10-31 13:19:59</th>\n",
       "      <td>3666</td>\n",
       "      <td>0.2</td>\n",
       "      <td>12.654</td>\n",
       "      <td>94.5</td>\n",
       "      <td>99.7</td>\n",
       "      <td>0.00</td>\n",
       "      <td>1.51</td>\n",
       "    </tr>\n",
       "    <tr>\n",
       "      <th>2015-10-31 13:34:59</th>\n",
       "      <td>3667</td>\n",
       "      <td>0.0</td>\n",
       "      <td>12.122</td>\n",
       "      <td>97.9</td>\n",
       "      <td>233.1</td>\n",
       "      <td>0.00</td>\n",
       "      <td>1.76</td>\n",
       "    </tr>\n",
       "    <tr>\n",
       "      <th>2015-10-31 13:49:59</th>\n",
       "      <td>3668</td>\n",
       "      <td>0.2</td>\n",
       "      <td>11.880</td>\n",
       "      <td>98.2</td>\n",
       "      <td>203.6</td>\n",
       "      <td>0.00</td>\n",
       "      <td>2.52</td>\n",
       "    </tr>\n",
       "    <tr>\n",
       "      <th>2015-10-31 14:04:59</th>\n",
       "      <td>3669</td>\n",
       "      <td>0.4</td>\n",
       "      <td>11.734</td>\n",
       "      <td>98.1</td>\n",
       "      <td>140.4</td>\n",
       "      <td>0.00</td>\n",
       "      <td>0.50</td>\n",
       "    </tr>\n",
       "  </tbody>\n",
       "</table>\n",
       "<p>3669 rows × 7 columns</p>\n",
       "</div>"
      ],
      "text/plain": [
       "                     num_test  Rainfall(mm)  temperature(C)  \\\n",
       "Date_Time                                                     \n",
       "2015-09-23 09:04:59         1           NaN          12.243   \n",
       "2015-09-23 09:19:59         2           0.0          12.316   \n",
       "2015-09-23 09:34:59         3           0.0          12.340   \n",
       "2015-09-23 09:49:59         4           0.0          12.074   \n",
       "...                       ...           ...             ...   \n",
       "2015-10-31 13:19:59      3666           0.2          12.654   \n",
       "2015-10-31 13:34:59      3667           0.0          12.122   \n",
       "2015-10-31 13:49:59      3668           0.2          11.880   \n",
       "2015-10-31 14:04:59      3669           0.4          11.734   \n",
       "\n",
       "                     relative_humidity(%)  wind_direction  wind_speed(m/s)  \\\n",
       "Date_Time                                                                    \n",
       "2015-09-23 09:04:59                  84.6            64.6             0.76   \n",
       "2015-09-23 09:19:59                  84.4            92.7             0.00   \n",
       "2015-09-23 09:34:59                  84.7             1.4             0.00   \n",
       "2015-09-23 09:49:59                  84.6             7.0             0.00   \n",
       "...                                   ...             ...              ...   \n",
       "2015-10-31 13:19:59                  94.5            99.7             0.00   \n",
       "2015-10-31 13:34:59                  97.9           233.1             0.00   \n",
       "2015-10-31 13:49:59                  98.2           203.6             0.00   \n",
       "2015-10-31 14:04:59                  98.1           140.4             0.00   \n",
       "\n",
       "                     gust_speed(m/s)  \n",
       "Date_Time                             \n",
       "2015-09-23 09:04:59             6.30  \n",
       "2015-09-23 09:19:59             0.76  \n",
       "2015-09-23 09:34:59             1.51  \n",
       "2015-09-23 09:49:59             1.26  \n",
       "...                              ...  \n",
       "2015-10-31 13:19:59             1.51  \n",
       "2015-10-31 13:34:59             1.76  \n",
       "2015-10-31 13:49:59             2.52  \n",
       "2015-10-31 14:04:59             0.50  \n",
       "\n",
       "[3669 rows x 7 columns]"
      ]
     },
     "execution_count": 4,
     "metadata": {},
     "output_type": "execute_result"
    }
   ],
   "source": [
    "#import weather data to python. \n",
    "weather_data_quest = pd.read_csv('..//data/QuestU_Remote_Weather_Station_oct312015.csv',index_col='Date_Time')\n",
    "\n",
    "#assigning columns names \n",
    "weather_data_quest.columns=[['num_test','Rainfall(mm)','temperature(C)','relative_humidity(%)','wind_direction','wind_speed(m/s)','gust_speed(m/s)']]\n",
    "\n",
    "# making my my index veiwed as a date time subject not a string. \n",
    "weather_data_quest.index = pd.to_datetime(weather_data_quest.index)\n",
    "\n",
    "#show what the table of weather_data_quest looks like. \n",
    "weather_data_quest"
   ]
  },
  {
   "cell_type": "markdown",
   "metadata": {},
   "source": [
    "   #### check what type of data working with"
   ]
  },
  {
   "cell_type": "code",
   "execution_count": 5,
   "metadata": {
    "collapsed": false
   },
   "outputs": [
    {
     "data": {
      "text/plain": [
       "num_test                  int64\n",
       "Rainfall(mm)            float64\n",
       "temperature(C)          float64\n",
       "relative_humidity(%)    float64\n",
       "wind_direction          float64\n",
       "wind_speed(m/s)         float64\n",
       "gust_speed(m/s)         float64\n",
       "dtype: object"
      ]
     },
     "execution_count": 5,
     "metadata": {},
     "output_type": "execute_result"
    }
   ],
   "source": [
    "weather_data_quest.dtypes"
   ]
  },
  {
   "cell_type": "markdown",
   "metadata": {
    "collapsed": true
   },
   "source": [
    "## Visualizing data in the froms of graphs"
   ]
  },
  {
   "cell_type": "code",
   "execution_count": null,
   "metadata": {
    "collapsed": false
   },
   "outputs": [],
   "source": []
  },
  {
   "cell_type": "code",
   "execution_count": null,
   "metadata": {
    "collapsed": false
   },
   "outputs": [],
   "source": [
    "\n"
   ]
  },
  {
   "cell_type": "code",
   "execution_count": null,
   "metadata": {
    "collapsed": true
   },
   "outputs": [],
   "source": []
  },
  {
   "cell_type": "code",
   "execution_count": null,
   "metadata": {
    "collapsed": true
   },
   "outputs": [],
   "source": []
  },
  {
   "cell_type": "code",
   "execution_count": null,
   "metadata": {
    "collapsed": true
   },
   "outputs": [],
   "source": []
  },
  {
   "cell_type": "code",
   "execution_count": null,
   "metadata": {
    "collapsed": true
   },
   "outputs": [],
   "source": []
  }
 ],
 "metadata": {
  "kernelspec": {
   "display_name": "Python 3",
   "language": "python",
   "name": "python3"
  },
  "language_info": {
   "codemirror_mode": {
    "name": "ipython",
    "version": 3
   },
   "file_extension": ".py",
   "mimetype": "text/x-python",
   "name": "python",
   "nbconvert_exporter": "python",
   "pygments_lexer": "ipython3",
   "version": "3.4.3"
  }
 },
 "nbformat": 4,
 "nbformat_minor": 0
}
