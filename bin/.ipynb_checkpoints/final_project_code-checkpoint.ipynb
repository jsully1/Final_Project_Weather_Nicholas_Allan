{
 "cells": [
  {
   "cell_type": "markdown",
   "metadata": {},
   "source": [
    "# Final project raw code "
   ]
  },
  {
   "cell_type": "code",
   "execution_count": null,
   "metadata": {
    "collapsed": true
   },
   "outputs": [],
   "source": [
    "#import the python library \n",
    "import pandas as pd \n",
    "import numpy as np\n",
    "import matplotlib.pyplot as plt\n",
    "import matplotlib.mlab as mlab\n",
    "%matplotlib inline\n",
    "\n",
    "#versions of \n",
    "\n",
    "#stats lybraries\n",
    "import statsmodels.api as sm \n",
    "import scipy\n",
    "\n",
    "#here i set limits on what i allow the phyton to show in tables\n",
    "from pandas import set_option\n",
    "set_option('display.max_rows',8) \n",
    "#limits rows show in tablle by 10(above). change this number if you want more or less rows visible"
   ]
  },
  {
   "cell_type": "markdown",
   "metadata": {},
   "source": [
    "## Data import and setting of the colunms names "
   ]
  },
  {
   "cell_type": "code",
   "execution_count": null,
   "metadata": {
    "collapsed": false
   },
   "outputs": [],
   "source": [
    "#import weather data to python. \n",
    "weather_data_quest = pd.read_csv('..//data/QuestU_Remote_Weather_Station_oct312015.csv',index_col='Date_Time')\n",
    "\n",
    "#assigning columns names \n",
    "weather_data_quest.columns=[['num_test','Rainfall(mm)','temperature(C)','relative_humidity(%)','wind_direction','wind_speed(m/s)','gust_speed(m/s)']]\n",
    "\n",
    "# making my my index veiwed as a date time subject not a string. \n",
    "weather_data_quest.index = pd.to_datetime(weather_data_quest.index)\n",
    "\n",
    "#show what the table of weather_data_quest looks like. \n",
    "weather_data_quest"
   ]
  },
  {
   "cell_type": "markdown",
   "metadata": {},
   "source": [
    "   #### check what type of data working with"
   ]
  },
  {
   "cell_type": "code",
   "execution_count": null,
   "metadata": {
    "collapsed": false
   },
   "outputs": [],
   "source": [
    "weather_data_quest.dtypes"
   ]
  },
  {
   "cell_type": "markdown",
   "metadata": {
    "collapsed": true
   },
   "source": [
    "## Visualizing data in the froms of graphs"
   ]
  },
  {
   "cell_type": "code",
   "execution_count": null,
   "metadata": {
    "collapsed": false
   },
   "outputs": [],
   "source": [
    "plt.figure(figsize=(15,5))\n",
    "\n",
    "# define subplot 1 \n",
    "plt.subplot(1,2,1)\n",
    "plt.plot(weather_data_quest['wind_speed(m/s)'], marker='o', color='m', linestyle='')\n",
    "\n",
    "#add title\n",
    "plt.title('Wind Speed trend')\n",
    "\n",
    "#add gridlines\n",
    "plt.grid(True)\n",
    "\n",
    "#add axis lables \n",
    "plt.ylabel ('Speed(m/s)')\n",
    "plt.xlabel ('Test(7mins)')\n",
    "\n",
    "#modify x axis limits\n",
    "\n",
    "plt.xlim(-1,)\n",
    "plt.ylim(-.1,)\n",
    "\n",
    "\n",
    "# define subplot 2\n",
    "plt.subplot(1,2,2)\n",
    "plt.plot(weather_data_quest['gust_speed(m/s)'], marker='o', color='r',linestyle='' )\n",
    "\n",
    "#add title\n",
    "plt.title('Gust Speed trend')\n",
    "\n",
    "#add gridlines\n",
    "plt.grid(True)\n",
    "\n",
    "#add axis lables \n",
    "plt.ylabel ('Speed(m/s)')\n",
    "plt.xlabel ('Test(7mins)')\n",
    "\n",
    "#modify x axis limits\n",
    "\n",
    "plt.xlim(-.1,)\n",
    "plt.ylim(-.25,)\n",
    "\n",
    "#gice plots some breathing room\n",
    "plt.tight_layout()\n",
    "\n",
    "#show plot \n",
    "plt.show()"
   ]
  },
  {
   "cell_type": "code",
   "execution_count": null,
   "metadata": {
    "collapsed": false
   },
   "outputs": [],
   "source": [
    "# here is a graph that shows wind speed vs gust speed. \n",
    "plt.plot(weather_data_quest['wind_speed(m/s)'], weather_data_quest['gust_speed(m/s)'], linestyle='' , marker='o')\n",
    "\n",
    "#adding labels to the graph \n",
    "plt.xlabel('Wind Speed')\n",
    "plt.ylabel('Gust speed')\n",
    "plt.title('wind vs gust speed')\n",
    "\n",
    "#showing the graph. \n",
    "plt.show()"
   ]
  },
  {
   "cell_type": "markdown",
   "metadata": {},
   "source": [
    "## Statistical code \n",
    "\n",
    "weird problem happening with my variables not showing up when ran. its happening for wind_speed(m.s) and for temperature(C) "
   ]
  },
  {
   "cell_type": "code",
   "execution_count": null,
   "metadata": {
    "collapsed": false
   },
   "outputs": [],
   "source": [
    "lm = sm.formula.ols(formula='gust_speed(m/s)~wind_speed(m/s)', data= weather_data_quest ).fit()\n",
    "lm.params"
   ]
  },
  {
   "cell_type": "code",
   "execution_count": null,
   "metadata": {
    "collapsed": false
   },
   "outputs": [],
   "source": [
    "x = pd.DataFrame({'wind_speed': range(0,3)})\n",
    "x"
   ]
  },
  {
   "cell_type": "code",
   "execution_count": null,
   "metadata": {
    "collapsed": false
   },
   "outputs": [],
   "source": [
    "y = lm.predict(x)"
   ]
  },
  {
   "cell_type": "code",
   "execution_count": null,
   "metadata": {
    "collapsed": true
   },
   "outputs": [],
   "source": [
    "plt.plot(weather_data_quest['wind_speed(m/s)'], weather_data_quest['gust_speed(m/s)'], linestyle='' , marker='o')\n",
    "\n",
    "plt.xlabel('Wind Speed')\n",
    "plt.ylabel('Gust speed')\n",
    "plt.title('wind vs gust speed')\n",
    "\n",
    "plt.plot(x, y, color='red', linewidth=3)\n",
    "\n",
    "plt.show()"
   ]
  },
  {
   "cell_type": "code",
   "execution_count": null,
   "metadata": {
    "collapsed": true
   },
   "outputs": [],
   "source": []
  },
  {
   "cell_type": "code",
   "execution_count": null,
   "metadata": {
    "collapsed": true
   },
   "outputs": [],
   "source": []
  },
  {
   "cell_type": "code",
   "execution_count": null,
   "metadata": {
    "collapsed": false
   },
   "outputs": [],
   "source": [
    "lm_1 = sm.formula.ols(formula='temperature(C) ~ relative_humidity(%)', data= weather_data_quest).fit()\n",
    "\n",
    "lm_2 = sm.formula.ols(formula='temperature(C) ~ gust_speed(m/s) + wind_speed(m/s) + relative_humidity(%) + rainfall(mm)', data= weather_data_quest ).fit()\n",
    "\n",
    "print(lm_1.rsquared_adj, lm_2.rsquared_adj)"
   ]
  },
  {
   "cell_type": "code",
   "execution_count": null,
   "metadata": {
    "collapsed": true
   },
   "outputs": [],
   "source": []
  },
  {
   "cell_type": "code",
   "execution_count": null,
   "metadata": {
    "collapsed": true
   },
   "outputs": [],
   "source": []
  },
  {
   "cell_type": "code",
   "execution_count": null,
   "metadata": {
    "collapsed": true
   },
   "outputs": [],
   "source": []
  }
 ],
 "metadata": {
  "kernelspec": {
   "display_name": "Python 3",
   "language": "python",
   "name": "python3"
  },
  "language_info": {
   "codemirror_mode": {
    "name": "ipython",
    "version": 3
   },
   "file_extension": ".py",
   "mimetype": "text/x-python",
   "name": "python",
   "nbconvert_exporter": "python",
   "pygments_lexer": "ipython3",
   "version": "3.4.3"
  }
 },
 "nbformat": 4,
 "nbformat_minor": 0
}
